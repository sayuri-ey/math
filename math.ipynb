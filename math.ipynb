{
 "metadata": {
  "language_info": {
   "codemirror_mode": {
    "name": "ipython",
    "version": 3
   },
   "file_extension": ".py",
   "mimetype": "text/x-python",
   "name": "python",
   "nbconvert_exporter": "python",
   "pygments_lexer": "ipython3",
   "version": "3.9.5"
  },
  "orig_nbformat": 4,
  "kernelspec": {
   "name": "python3",
   "display_name": "Python 3.9.5 64-bit"
  },
  "interpreter": {
   "hash": "4cd7ab41f5fca4b9b44701077e38c5ffd31fe66a6cab21e0214b68d958d0e462"
  }
 },
 "nbformat": 4,
 "nbformat_minor": 2,
 "cells": [
  {
   "cell_type": "code",
   "execution_count": null,
   "source": [
    "import sys\n",
    "\n",
    "#reload(sys)\n",
    "#sys.setdefaultencoding('utf8')\n",
    "\n",
    "import math\n",
    "\n",
    "def roundpaleo_max(nmin,nmax):\n",
    "    d = nmax - int(nmax)\n",
    "    s = nmax - nmin\n",
    "    if s <= 1.99:\n",
    "        if d > 875:\n",
    "            return math.ceil(nmax)\n",
    "        elif 0.875 >= d > 0.750:\n",
    "            return int(nmax)+0.875\n",
    "        elif 0.750 >= d > 0.625:\n",
    "            return int(nmax)+0.750\n",
    "        elif 0.625 >= d > 0.5:\n",
    "            return int(nmax)+0.625\n",
    "        elif 0.5 >= d > 0.375:\n",
    "            return int(nmax)+0.5\n",
    "        elif 0.375 >= d > 0.250:\n",
    "            return int(nmax)+0.375\n",
    "        elif 0.250 >= d > 0.125:\n",
    "            return int(nmax)+0.25\n",
    "        else:\n",
    "            return int(nmax)+0.125\n",
    "    else:\n",
    "        if d > 0.750:\n",
    "            return math.ceil(nmax)\n",
    "        elif 0.750 >= d > 0.5:\n",
    "            return int(nmax)+0.75\n",
    "        elif 0.5 >= d > 0.25:\n",
    "            return int(nmax)+0.5\n",
    "        else:\n",
    "            return int(nmax)+0.25\n",
    "\n",
    "def roundpaleo_min(nmin,nmax):\n",
    "    d = nmin - int(nmin)\n",
    "    s = nmax - nmin\n",
    "    if s <= 1.99:\n",
    "        if d >= 0.875:\n",
    "            return int(nmin)+0.875\n",
    "        elif 0.875 > d >= 0.750:\n",
    "            return int(nmin)+0.750\n",
    "        elif 0.750 > d >= 0.625:\n",
    "            return int(nmin)+0.625\n",
    "        elif 0.625 > d >= 0.5:\n",
    "            return int(nmin)+0.5\n",
    "        elif 0.5 > d >= 0.375:\n",
    "            return int(nmin)+0.375\n",
    "        elif 0.375 > d >= 0.25:\n",
    "            return int(nmin)+0.250\n",
    "        elif 0.25 > d >= 0.125:\n",
    "            return int(nmin)+0.125\n",
    "        else:\n",
    "            return math.floor(nmin)\n",
    "\n",
    "    else:\n",
    "        if d >= 0.75:\n",
    "            return int(nmin)+0.75\n",
    "        elif 0.75 > d >= 0.5:\n",
    "            return int(nmin)+0.5\n",
    "        elif 0.5 > d >= 0.25:\n",
    "            return int(nmin)+0.25\n",
    "        else:\n",
    "            return math.floor(nmin)\n"
   ],
   "outputs": [],
   "metadata": {}
  },
  {
   "cell_type": "code",
   "execution_count": null,
   "source": [
    "'''\n",
    "This code receives values for a, b and c constants of a quadratic equation and outputs whether\n",
    "the equation has no real roots\n",
    "or if it has one or two roots and their values in crescent order\n",
    "'''\n",
    "\n",
    "a=int(input(\"Type a value for a: \"))\n",
    "b=int(input(\"Type a value for b: \"))\n",
    "c=int(input(\"Type a value for c: \"))\n",
    "delta=b**2-4*a*c\n",
    "x1=(-b+(delta)**1/2)/2*a\n",
    "x2=(-b-(delta)**1/2)/2*a\n",
    "\n",
    "if delta<0:\n",
    "    print(\"Delta This equation has no real roots\")\n",
    "elif delta==0:\n",
    "    print(\"This equation has an unique real root\",x1)\n",
    "elif delta>0:\n",
    "    aux=0\n",
    "    if x2>x1:\n",
    "        aux=x1\n",
    "        x1=x2\n",
    "        x2=aux\n",
    "    print(\"This equation has two real roots,\",x1,\"and\",x2)"
   ],
   "outputs": [],
   "metadata": {}
  },
  {
   "cell_type": "code",
   "execution_count": 31,
   "source": [
    "from fractions import Fraction\n",
    "\n",
    "def probability(P1,P2,kind):\n",
    "    '''\n",
    "    Function to calculate probability of two events\n",
    "    P1 is the probability of event #1;\n",
    "    P2 is the probability of event #2 and\n",
    "    kind is the kind o probability you want to calculate \n",
    "    (ind = independent events); \n",
    "    mut_excl = mutually exclusive events; \n",
    "    non_mut = non-mutual events; \n",
    "    depend = conditional probability (dependent events);\n",
    "    '''\n",
    "\n",
    "    if kind == 'ind':\n",
    "        print(Fraction(P1 * P2),'or',round(P1 * P2,2)) \n",
    "        return P1 * P2\n",
    "    elif kind == 'mut_excl':\n",
    "        print(Fraction(P1 + P2),'or',round(P1 + P2,2))\n",
    "        return P1 + P2\n",
    "    elif kind == 'non_mut':\n",
    "        print(Fraction(P1 + P2 - P1 * P2),'or',round(P1 + P2 - P1 * P2,2))\n",
    "        return P1 + P2 - P1 * P2\n",
    "    elif kind == 'depend':\n",
    "        print(Fraction((P1 * P2)/P2),'or',round((P1 * P2)/P2,2))\n",
    "        return (P1 * P2)/P2"
   ],
   "outputs": [],
   "metadata": {}
  },
  {
   "cell_type": "code",
   "execution_count": 32,
   "source": [
    "probability(1/6,1/6,'depend')"
   ],
   "outputs": [
    {
     "output_type": "stream",
     "name": "stdout",
     "text": [
      "6004799503160661/36028797018963968 or 0.17\n"
     ]
    },
    {
     "output_type": "execute_result",
     "data": {
      "text/plain": [
       "0.16666666666666666"
      ]
     },
     "metadata": {},
     "execution_count": 32
    }
   ],
   "metadata": {}
  },
  {
   "cell_type": "code",
   "execution_count": null,
   "source": [
    "mudança no math.ipynb"
   ],
   "outputs": [],
   "metadata": {}
  }
 ]
}